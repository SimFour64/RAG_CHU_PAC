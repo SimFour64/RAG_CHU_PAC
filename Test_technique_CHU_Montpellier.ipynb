{
  "nbformat": 4,
  "nbformat_minor": 0,
  "metadata": {
    "colab": {
      "provenance": []
    },
    "kernelspec": {
      "name": "python3",
      "display_name": "Python 3"
    },
    "language_info": {
      "name": "python"
    }
  },
  "cells": [
    {
      "cell_type": "markdown",
      "source": [
        "# Prise en charge des pneumopathies aigues communautaires"
      ],
      "metadata": {
        "id": "BKAbfnY_IwDS"
      }
    },
    {
      "cell_type": "markdown",
      "source": [
        "Ce notebook vise à établir un POC d'un outil qui pourrait être mis à disposition de professionnels de santé.  \n",
        "**Fonctionnalité principale** : interface conversationnelle de questions-réponses basé sur un LLM qui peut répondre à des questions portant sur un document   \n",
        "**Utilisateurs principaux** : professionnels de santé  \n",
        "**Workflow** : l'utilisateur charge le document, l'outil analyse le document, l'utilisateur pose des questions sur le document, l'outil répond en fonction des données du document  \n",
        "**Choix techniques** : l'outil proposé consiste en un LLM déjà entraîné, augmenté par le document fournit via un process RAG - Retrieval Augmented Generation."
      ],
      "metadata": {
        "id": "Tj3NPZGLIzkp"
      }
    },
    {
      "cell_type": "markdown",
      "source": [
        "## Environment setup"
      ],
      "metadata": {
        "id": "QzYudHS5J2L2"
      }
    },
    {
      "cell_type": "code",
      "source": [
        "# Prerequisites\n",
        "!pip install python-docx mistralai faiss-cpu"
      ],
      "metadata": {
        "colab": {
          "base_uri": "https://localhost:8080/"
        },
        "collapsed": true,
        "id": "Kn98KlCKKYeK",
        "outputId": "e3111c7f-bb96-40cc-cc5d-03bd4d083e6d"
      },
      "execution_count": 130,
      "outputs": [
        {
          "output_type": "stream",
          "name": "stdout",
          "text": [
            "Requirement already satisfied: python-docx in /usr/local/lib/python3.11/dist-packages (1.2.0)\n",
            "Requirement already satisfied: mistralai in /usr/local/lib/python3.11/dist-packages (1.9.1)\n",
            "Collecting faiss-cpu\n",
            "  Downloading faiss_cpu-1.11.0-cp311-cp311-manylinux_2_28_x86_64.whl.metadata (4.8 kB)\n",
            "Requirement already satisfied: lxml>=3.1.0 in /usr/local/lib/python3.11/dist-packages (from python-docx) (5.4.0)\n",
            "Requirement already satisfied: typing_extensions>=4.9.0 in /usr/local/lib/python3.11/dist-packages (from python-docx) (4.14.0)\n",
            "Requirement already satisfied: eval-type-backport>=0.2.0 in /usr/local/lib/python3.11/dist-packages (from mistralai) (0.2.2)\n",
            "Requirement already satisfied: httpx>=0.28.1 in /usr/local/lib/python3.11/dist-packages (from mistralai) (0.28.1)\n",
            "Requirement already satisfied: pydantic>=2.10.3 in /usr/local/lib/python3.11/dist-packages (from mistralai) (2.11.7)\n",
            "Requirement already satisfied: python-dateutil>=2.8.2 in /usr/local/lib/python3.11/dist-packages (from mistralai) (2.9.0.post0)\n",
            "Requirement already satisfied: typing-inspection>=0.4.0 in /usr/local/lib/python3.11/dist-packages (from mistralai) (0.4.1)\n",
            "Requirement already satisfied: numpy<3.0,>=1.25.0 in /usr/local/lib/python3.11/dist-packages (from faiss-cpu) (2.0.2)\n",
            "Requirement already satisfied: packaging in /usr/local/lib/python3.11/dist-packages (from faiss-cpu) (24.2)\n",
            "Requirement already satisfied: anyio in /usr/local/lib/python3.11/dist-packages (from httpx>=0.28.1->mistralai) (4.9.0)\n",
            "Requirement already satisfied: certifi in /usr/local/lib/python3.11/dist-packages (from httpx>=0.28.1->mistralai) (2025.6.15)\n",
            "Requirement already satisfied: httpcore==1.* in /usr/local/lib/python3.11/dist-packages (from httpx>=0.28.1->mistralai) (1.0.9)\n",
            "Requirement already satisfied: idna in /usr/local/lib/python3.11/dist-packages (from httpx>=0.28.1->mistralai) (3.10)\n",
            "Requirement already satisfied: h11>=0.16 in /usr/local/lib/python3.11/dist-packages (from httpcore==1.*->httpx>=0.28.1->mistralai) (0.16.0)\n",
            "Requirement already satisfied: annotated-types>=0.6.0 in /usr/local/lib/python3.11/dist-packages (from pydantic>=2.10.3->mistralai) (0.7.0)\n",
            "Requirement already satisfied: pydantic-core==2.33.2 in /usr/local/lib/python3.11/dist-packages (from pydantic>=2.10.3->mistralai) (2.33.2)\n",
            "Requirement already satisfied: six>=1.5 in /usr/local/lib/python3.11/dist-packages (from python-dateutil>=2.8.2->mistralai) (1.17.0)\n",
            "Requirement already satisfied: sniffio>=1.1 in /usr/local/lib/python3.11/dist-packages (from anyio->httpx>=0.28.1->mistralai) (1.3.1)\n",
            "Downloading faiss_cpu-1.11.0-cp311-cp311-manylinux_2_28_x86_64.whl (31.3 MB)\n",
            "\u001b[2K   \u001b[90m━━━━━━━━━━━━━━━━━━━━━━━━━━━━━━━━━━━━━━━━\u001b[0m \u001b[32m31.3/31.3 MB\u001b[0m \u001b[31m61.4 MB/s\u001b[0m eta \u001b[36m0:00:00\u001b[0m\n",
            "\u001b[?25hInstalling collected packages: faiss-cpu\n",
            "Successfully installed faiss-cpu-1.11.0\n"
          ]
        }
      ]
    },
    {
      "cell_type": "code",
      "source": [
        "# Imports\n",
        "import docx\n",
        "import textwrap\n",
        "from mistralai import Mistral\n",
        "from google.colab import userdata\n",
        "import numpy as np\n",
        "import time\n",
        "import faiss"
      ],
      "metadata": {
        "id": "705UQ1p8J17K"
      },
      "execution_count": 131,
      "outputs": []
    },
    {
      "cell_type": "code",
      "source": [
        "# Mistral API Client\n",
        "api_key= userdata.get(\"MISTRAL_API_KEY\")\n",
        "client = Mistral(api_key=api_key)"
      ],
      "metadata": {
        "id": "xnkWO7RubWwb"
      },
      "execution_count": 61,
      "outputs": []
    },
    {
      "cell_type": "markdown",
      "source": [
        "## Développement de l'outil et du modèle"
      ],
      "metadata": {
        "id": "8oTl_dIwJw4i"
      }
    },
    {
      "cell_type": "markdown",
      "source": [
        "### Traitement du document, extraction des informations"
      ],
      "metadata": {
        "id": "a4jP4WgQK5rG"
      }
    },
    {
      "cell_type": "markdown",
      "source": [
        "Le document consiste en des données textuelles à extraire : paragraphes, tableaux, images.  \n",
        "NB : le cas de l'image ne sera pas traité dans un premier temps, on pourrait utiliser une librairie d'OCR pour en extraire des informations brutes, ou un LLM pour structurer les informations extraites (ex. image-to-text)"
      ],
      "metadata": {
        "id": "_xrZOs_NOJir"
      }
    },
    {
      "cell_type": "code",
      "source": [
        "document = docx.Document(\"/content/Prise en charge des Pneumopathies aigues communautaires V2.docx\")"
      ],
      "metadata": {
        "id": "Ied9cWt-JwOr"
      },
      "execution_count": 22,
      "outputs": []
    },
    {
      "cell_type": "code",
      "source": [
        "def extract_data(document):\n",
        "\n",
        "    doc_chunks = []\n",
        "\n",
        "    # Extraction des textes dans l'ordre du document\n",
        "    for item in document.iter_inner_content():\n",
        "\n",
        "        # Paragraphes\n",
        "        if isinstance(item, docx.text.paragraph.Paragraph):\n",
        "            doc_chunks.append(item.text.strip())\n",
        "\n",
        "        # Tables\n",
        "        elif isinstance(item, docx.table.Table):\n",
        "            for row in item.rows:\n",
        "                row_data = \": \".join([cell.text for cell in row.cells])\n",
        "                doc_chunks.append(row_data)\n",
        "\n",
        "    # Nettoyage des éléments vides\n",
        "    doc_chunks = [chunk for chunk in doc_chunks if chunk != \"\"]\n",
        "\n",
        "    # Fusion des éléments\n",
        "    doc_text = \"\\n\".join(doc_chunks)\n",
        "\n",
        "    return doc_text"
      ],
      "metadata": {
        "id": "LGiQBm7cNPPP"
      },
      "execution_count": 72,
      "outputs": []
    },
    {
      "cell_type": "code",
      "source": [
        "doc_text = extract_data(document)"
      ],
      "metadata": {
        "id": "wHhLJoUDeJxh"
      },
      "execution_count": 73,
      "outputs": []
    },
    {
      "cell_type": "markdown",
      "source": [
        "### Interprétation des textes en langage naturel via LLM"
      ],
      "metadata": {
        "id": "bNdaKctjULMB"
      }
    },
    {
      "cell_type": "markdown",
      "source": [
        "Le texte contient des données techniques \"brutes\" difficilement interpétables telles quelles. L'objectif est de les rendre plus compréhensibles via un LLM."
      ],
      "metadata": {
        "id": "pkhAGiZqUPsq"
      }
    },
    {
      "cell_type": "code",
      "source": [],
      "metadata": {
        "id": "W8AS1ItrSzdy"
      },
      "execution_count": null,
      "outputs": []
    },
    {
      "cell_type": "markdown",
      "source": [
        "Le texte est maintenant prêt pour être passé dans un modèle LLM augmenté d'un RAG"
      ],
      "metadata": {
        "id": "6kvEYfgkUtnO"
      }
    },
    {
      "cell_type": "markdown",
      "source": [
        "### Paramétrage du RAG"
      ],
      "metadata": {
        "id": "ta9LauNdUkqd"
      }
    },
    {
      "cell_type": "code",
      "source": [
        "# Découpage du document en chunks\n",
        "def split_text(document, chunk_size=300):\n",
        "    paragraphs = document.split(\"\\n\")\n",
        "    chunks = []\n",
        "    for paragraph in paragraphs:\n",
        "        chunks.extend(textwrap.wrap(paragraph, chunk_size))\n",
        "    return chunks"
      ],
      "metadata": {
        "id": "keFiHjJcVIUp"
      },
      "execution_count": 52,
      "outputs": []
    },
    {
      "cell_type": "code",
      "source": [
        "chunks = split_text(doc_text)"
      ],
      "metadata": {
        "id": "He5YCOz3VKJs"
      },
      "execution_count": 53,
      "outputs": []
    },
    {
      "cell_type": "code",
      "source": [
        "chunks"
      ],
      "metadata": {
        "colab": {
          "base_uri": "https://localhost:8080/"
        },
        "collapsed": true,
        "id": "8RUu1OzifYGS",
        "outputId": "323911a5-4377-4469-930f-f7a37cbf87b1"
      },
      "execution_count": 76,
      "outputs": [
        {
          "output_type": "execute_result",
          "data": {
            "text/plain": [
              "['PRISE EN CHARGE DES PNEUMOPATHIES AIGUES COMMUNAUTAIRES (PAC) SUPPOSEE D’ORIGINE BACTERIENNE',\n",
              " 'Dont Pneumopathies graves, d’inhalation et légionellose',\n",
              " '* Le but de ce document est d’indiquer la prise en charge diagnostique et thérapeutique recommandée des PAC supposées d’origine bactérienne des patients hospitalisés (Ambulatoire non abordé)',\n",
              " '* Ne sont pas traité dans ces recommandations les patients avec DDB (mucoviscidose ou autres étiologies)',\n",
              " '* Mise à jour qui font suite aux dernières recommandations SPILF/SPLF sur les PAC publiées en 02/2025 dans le journal MMI Formation',\n",
              " 'Point fort',\n",
              " 'Critères de stabilité\\xa0:  Apyrexie, stabilité tensionnelle, Pouls  100, FR  24, Saturation  à 90% en AA',\n",
              " 'En cas de PAC non graves (hors USI) ET Obtention de l’ensemble des critères de stabilité à J3, un traitement de 3 jours est recommandé',\n",
              " 'Si critères de stabilité obtenus à 5 jours, un traitement de 5 jours est recommandé',\n",
              " '(sans dépasser 7 jours dans les autres cas)',\n",
              " 'Au cours des PAC le dosage de la CRP et PCT ne sont pas recommandé en systématique pour le diagnostic et/ou le suivi (C-1)',\n",
              " 'Question\\xa0: précision sur durée si identification P. aeruginosa (7J)',\n",
              " 'Durée de traitement pour légionellose à valider\\xa0: 7 jours (formes simples) (10-21J formes sévères/compliquée/immunodeprimmé)\\xa0?',\n",
              " 'Définitions et généralités\\xa0:',\n",
              " 'En premier lieu il faut évaluer la situation clinique et la gravité, afin de définir la prise en charge (PEC) adapté et le lieu de PEC.',\n",
              " 'Tableau 1. Critères diagnostic de pneumopathie aigue grave',\n",
              " 'Critères majeurs: Choc septique nécessitant des amines',\n",
              " 'Critères majeurs: Détresse respiratoire nécessitant recours à la ventilation mécanique',\n",
              " 'Critères mineurs: Fréquence respiratoire  à 30/min',\n",
              " 'Critères mineurs: PaO2/FiO2  250',\n",
              " 'Critères mineurs: Infiltrats multilobaires (I.e\\xa0;  2)',\n",
              " 'Critères mineurs: Confusion/désorientation',\n",
              " 'Critères mineurs: Urée plasmatique  20 mg/dl',\n",
              " 'Critères mineurs: Leucopénie ( 4000/mm3)',\n",
              " 'Critères mineurs: Thrombocytopénie (Plq  100000/mm3)',\n",
              " 'Critères mineurs: Hypothermie (T° < 36°c)',\n",
              " 'Critères mineurs: Hypotension nécessitant expansion volémique',\n",
              " 'L’hospitalisation est nécessaire en cas de signes de gravité et recommandée dans certaines situations (précarité, risque d’inobservance, FDR/comorbidités Cf tableau 2) (Annexe 1)',\n",
              " 'La présence d’au moins une des comorbidités suivantes (conditionne le choix de l’antibiothérapie probabiliste à utiliser dans les PAC. L’âge et les autres comorbidités (asthme, diabète,…) ne doivent pas être pris en compte.',\n",
              " 'Tableau 2. Facteurs de risque et comorbidités à considérer dans le choix d’une antibiothérapie probabiliste',\n",
              " 'Hospitalisation dans les 3 mois précédents',\n",
              " 'Antibiothérapie dans le mois précédent*',\n",
              " 'Éthylisme chronique',\n",
              " 'Troubles de la déglutition',\n",
              " 'Maladie neurologique avec risque de fausses routes**',\n",
              " 'Néoplasie active',\n",
              " 'Immunodépression***',\n",
              " 'BPCO sévère (VEMS < 50 % de la théorique) ou insuffisance respiratoire chronique (OLD**** ou VNI)',\n",
              " 'Insuffisance cardiaque congestive',\n",
              " 'Insuffisance hépatique',\n",
              " 'Insuffisance rénale chronique (DFG < 30mL/min)',\n",
              " 'Antibiothérapie probabiliste d’une PAC suspectée bactérienne\\xa0:',\n",
              " 'Recommandations thérapeutiques Antibiothérapie\\xa0:',\n",
              " 'Situation clinique: Antibiothérapie 1ère ligne: Alternative',\n",
              " 'PAC non grave de l’adulte hospitalisé: PAC non grave de l’adulte hospitalisé: PAC non grave de l’adulte hospitalisé: PAC non grave de l’adulte hospitalisé',\n",
              " 'Sans comorbidité: Amoxicilline 1-2g/8h PO (ou IV)',\n",
              " ': C3G injectable',\n",
              " '- Ceftriaxone 1-2g/j',\n",
              " 'OU',\n",
              " '- Cefotaxime 1-2g/8h',\n",
              " 'OU Levofloxacine 500mg/J *',\n",
              " 'Avec comorbidité: Amoxicilline-acide clavulanique 1 à 2g/8h PO (ou IV)',\n",
              " '(Pour une posologie de 2g/8h\\xa0: associer amox/ac. clav 1g/125mg ET amox 1g par prise: C3G injectable',\n",
              " '- Ceftriaxone 1-2g/j',\n",
              " 'OU',\n",
              " '- Cefotaxime 1-2g/8h',\n",
              " 'OU Levofloxacine 500mg/J *',\n",
              " '- Surinfection /Co-infection des PNP virales\\xa0',\n",
              " '- Pneumopathie d’inhalation: Amoxicilline-acide clavulanique 1 à 2g/8h PO (ou IV)',\n",
              " '(Pour une posologie de 2g/8h\\xa0: associer amox/ac. clav 1g/125mg ET amox 1g par prise: C3G injectable **',\n",
              " '- Ceftriaxone 1-2g/j',\n",
              " 'OU',\n",
              " '- Cefotaxime 1-2g/8h',\n",
              " '- Suspicion de pneumopathie à germe atypique\\xa0: (sujet jeune, atteinte bilatérale, atteinte interstitielle, situation épidémiologique)',\n",
              " '- Mycoplasma pneumoniae: Macrolide *** PO ou IV',\n",
              " 'Ex. Azithromycine 500mg/J: 1er\\xa0: Doxycycline 200mg/J',\n",
              " '2nd\\xa0: Levofloxacine 500mg/J',\n",
              " '- Legionella pneumophila: Macrolide ***',\n",
              " 'Ex. Azithromycine 500mg/J',\n",
              " 'Forme sévère\\xa0:',\n",
              " 'Discuter macrolide + levofloxacine (Avis MIT)',\n",
              " ': Levofloxacine 500mg/J',\n",
              " ': :',\n",
              " ': :',\n",
              " 'Réévaluation à J3\\xa0:',\n",
              " 'relai par amoxicilline ou amoxicilline-acide clavulanique si échec de macrolide',\n",
              " 'discuter un relai par macrolide si échec d’amoxicilline ou amoxicilline-acide clavulanique après avoir vérifié l’absence d’épanchement pleural (TDM) et réalisé un ECBC : Réévaluation à J3\\xa0:',\n",
              " 'relai par amoxicilline ou amoxicilline-acide clavulanique si échec de macrolide',\n",
              " 'discuter un relai par macrolide si échec d’amoxicilline ou amoxicilline-acide clavulanique après avoir vérifié l’absence d’épanchement pleural (TDM) et réalisé un ECBC : Réévaluation à J3\\xa0:',\n",
              " 'relai par amoxicilline ou amoxicilline-acide clavulanique si échec de macrolide',\n",
              " 'discuter un relai par macrolide si échec d’amoxicilline ou amoxicilline-acide clavulanique après avoir vérifié l’absence d’épanchement pleural (TDM) et réalisé un ECBC : Réévaluation à J3\\xa0:',\n",
              " 'relai par amoxicilline ou amoxicilline-acide clavulanique si échec de macrolide',\n",
              " 'discuter un relai par macrolide si échec d’amoxicilline ou amoxicilline-acide clavulanique après avoir vérifié l’absence d’épanchement pleural (TDM) et réalisé un ECBC',\n",
              " 'PAC grave de l’adulte hospitalisé: PAC grave de l’adulte hospitalisé: PAC grave de l’adulte hospitalisé: PAC grave de l’adulte hospitalisé',\n",
              " 'Cas général: C3G injectable',\n",
              " '- Ceftriaxone 1-2g/j',\n",
              " 'OU',\n",
              " '- Cefotaxime 1-2g/8h',\n",
              " '+',\n",
              " 'Macrolide (ex.)',\n",
              " 'SPIRAMYCINE 3 MUI x 3 /J: Levofloxacine 500mg/J *',\n",
              " 'Avec suspicion de staphylocoque PVL + : + Linezolide: Alternative\\xa0: Levofloxacine / Linezolide*',\n",
              " 'Facteur de risque de Pseudomonas aeruginosa',\n",
              " '- Antécédent de colonisation ou d’infection par ce pathogène (dans l’année) (Grade B-1)',\n",
              " '- Pour les PAC grave , si 1 FDR parmi : Atb parentérale <3mois, BPCO sévère, DDB et/ou trachéotomie:',\n",
              " 'PIPERACILLINE/TAZOBACTAM',\n",
              " '12 à 16g/24h IV continu',\n",
              " 'OU',\n",
              " 'CEFEPIME 6 g/24h',\n",
              " '+/- Macrolide\\xa0: Spiramycine IV 3MUIx3/J (PAC grave)',\n",
              " ': Prendre en compte le dernier antibiogramme disponible pour le choix de la bêta-lactamine (en cas de colonisation et/ou infection préalablement documentée)',\n",
              " 'REEVALUATION A J2-J3 (données cliniques, résultats microbiologiques)',\n",
              " 'Arrêt macrolide si antigénurie legionelle négative (x2 distinct selon clinique)',\n",
              " 'Discuter désescalade ou adaptation selon documentation: REEVALUATION A J2-J3 (données cliniques, résultats microbiologiques)',\n",
              " 'Arrêt macrolide si antigénurie legionelle négative (x2 distinct selon clinique)',\n",
              " 'Discuter désescalade ou adaptation selon documentation: REEVALUATION A J2-J3 (données cliniques, résultats microbiologiques)',\n",
              " 'Arrêt macrolide si antigénurie legionelle négative (x2 distinct selon clinique)',\n",
              " 'Discuter désescalade ou adaptation selon documentation: REEVALUATION A J2-J3 (données cliniques, résultats microbiologiques)',\n",
              " 'Arrêt macrolide si antigénurie legionelle négative (x2 distinct selon clinique)',\n",
              " 'Discuter désescalade ou adaptation selon documentation',\n",
              " '* Les quinolones (Levofloxacine) sont réservées aux situations d’allergie grave aux bétalactamines et pas d’autres possibilités thérapeutiques.',\n",
              " '** Pas d’ajout de métronidazole en cas d’utilisation de C3G dans les pneumopathies d’inhalations (MAJ reco 2025)',\n",
              " '***\\xa0Azithromycine, Clarithromycine, Spiramycine (Posologies Tableau 3)',\n",
              " 'Tableau 3. Posologies et voies d’administration des antibiotiques',\n",
              " 'Antibiotique: Hors soins critiques: En soins critiques',\n",
              " 'Amoxicilline (IV ou PO): 1 g x3/j: 2 g x3/j',\n",
              " 'Amoxicilline-acide clavulanique (IV ou PO): 1 g x3/j: IV\\xa0: 2 g x3/j',\n",
              " 'Céfotaxime (IV): 1 g x3/j:  2gx3/J (/8H)',\n",
              " 'Ceftriaxone (IV): 1 g/j: 2 g/j',\n",
              " 'Lévofloxacine (IV ou PO): 500 mg/j: 500 mg à 1000 mg/j',\n",
              " 'Azithromycine (PO): 500 mg/j (J1) puis 250 mg/j: Non',\n",
              " 'Clarithromycine (IV ou PO): 500 mg x 2/j: 500 mg x 2/j',\n",
              " 'Spiramycine (IV): 1,5 MUI à 3 MUI x 3/j: 3 MUI x 3/j',\n",
              " 'Doxycycline (IV ou PO): 100 mg X2/j: Non',\n",
              " 'Linézolide (IV ou PO): 600 mg x2/j: 600 mg x2/j',\n",
              " ': :',\n",
              " 'Traitement adjuvant, Corticoïdes :',\n",
              " 'Au cours des PAC graves sans état de choc hospitalisées en soins critiques (hors\\xa0: grippe, myelosuppression et pneumonie d’inhalation)',\n",
              " 'Intérêt à l’adjonction d’un traitement précoce par Hemisuccinate d’Hydrocortisone 200 mg par jour IVSE (J1-J4)',\n",
              " 'Dans les 24 heures qui suivent l’apparition des signes de gravité',\n",
              " 'Réévaluation à J4\\xa0: Si bonne évolution décroissance',\n",
              " 'Durée totale 8 à 14 jours',\n",
              " 'C- Place des examens complémentaires\\xa0:',\n",
              " ': PAC hospitalisée',\n",
              " 'non grave: PAC hospitalisée grave',\n",
              " 'A faire: : ECBC + hémocultures SI :',\n",
              " 'Antibiothérapie anti-pseudomonas',\n",
              " 'Antécédents de SARM ou P. aeruginosa',\n",
              " 'Antibiothérapie dans les <3mois',\n",
              " 'Non réponse à 72h (+ Immunodépression pour les HAA)',\n",
              " 'PCR virales (quadriplex)',\n",
              " '+/- Panel respiratoire haut nasopharyngé (incluant M. pneumoniae)',\n",
              " 'Imagerie pulmonaire : Antigénurie Légionelle et pneumocoque',\n",
              " 'ECBC + Hémoculture + biologie sanguine',\n",
              " 'PCR virales (quadriplex)',\n",
              " ' +/- Panel respiratoire haut nasopharyngé',\n",
              " '+/- Panel respiratoire bas (expecto/LBA) (Si Atb non conventionnelle/ Recherche legionella)',\n",
              " 'Imagerie pulmonaire',\n",
              " 'Non recommandé : CRP / PCT (faible valeur diagnostic, et de suivi): CRP / PCT (faible valeur diagnostic, et de suivi)',\n",
              " 'Imagerie pulmonaire de première intention\\xa0: Radiographie du thorax ou Echographie pulmonaire',\n",
              " 'TDM thoracique low dose en cas\\xa0de\\xa0:',\n",
              " 'Doute diagnostique (A fortiori pour les PAC hospitalisées)',\n",
              " 'Non amélioration/aggravation après 72h d’un traitement bien conduit',\n",
              " 'FDR de cancer (dépistage, >50ans et >20PA) après un délai de 2 mois',\n",
              " 'D- Durée de traitement dans les PAC :',\n",
              " 'La durée de traitement dépend de l’obtention de tous les critères de stabilité clinique.',\n",
              " 'Critères de stabilité clinique: Valeurs',\n",
              " 'Température: ≤ 37,8°C',\n",
              " 'Pression artérielle systolique: ≥ 90 mmHg',\n",
              " 'Fréquence cardiaque: ≤ 100 /min',\n",
              " 'Fréquence respiratoire: ≤ 24 /min',\n",
              " 'SpO2',\n",
              " 'ou PaO2: ≥ 90 % en air ambiant',\n",
              " '≥ 60 mmHg en air ambiant',\n",
              " ': Durée recommandée',\n",
              " 'PAC avec critères de stabilité clinique à J3: 3 jours',\n",
              " 'PAC avec critères de stabilité clinique > J3-J5: 5 jours',\n",
              " 'Autres cas non compliqués: 7 jours',\n",
              " 'Abcès du poumon, pleurésie purulente: 2 à 4 semaines en fonction de l’évolution clinico-radiologique et d’un éventuel drainage radio/chir.',\n",
              " 'Documents en ANNEXE\\xa0:',\n",
              " 'Document réalisé et validé par la Commission des Médicaments Anti-Infectieux (COMAI du 20/06/2025)']"
            ]
          },
          "metadata": {},
          "execution_count": 76
        }
      ]
    },
    {
      "cell_type": "code",
      "source": [
        "# Génération d'un embedding pour un chunk\n",
        "def get_one_embedding(chunk):\n",
        "    embedding = client.embeddings.create(\n",
        "        model = \"mistral-embed\",\n",
        "        inputs = chunk\n",
        "    )\n",
        "\n",
        "    return embedding.data[0].embedding"
      ],
      "metadata": {
        "id": "aF63MOn7V8_i"
      },
      "execution_count": 86,
      "outputs": []
    },
    {
      "cell_type": "code",
      "source": [
        "# Limite d'utilisation API Mistral atteinte (vesion gratuite) : découpage en plusieurs parties pour générer les embeddings du doc d'entrée\n",
        "# Warning - solution non scalable si documents plus longs : considérer un plan payant pour accès API ou gérer l'embedding en local\n",
        "\n",
        "def get_all_embeddings(chunks, split_size=20):\n",
        "    embeddings = []\n",
        "    split_size = 30\n",
        "    number_of_splits = len(chunks) // split_size + 1\n",
        "\n",
        "    for i in range(number_of_splits):\n",
        "        print(\"Chunk n°\",i,\"/\",number_of_splits-1)\n",
        "        split_of_chunks = chunks[split_size*i:min(split_size*(i+1),len(chunks))]\n",
        "        embeddings_of_split = [get_one_embedding(chunk) for chunk in split_of_chunks]\n",
        "        embeddings.extend(embeddings_of_split)\n",
        "\n",
        "        time.sleep(60) # Attente pour limite API\n",
        "\n",
        "    embeddings = np.array(embeddings)\n",
        "\n",
        "    return embeddings"
      ],
      "metadata": {
        "id": "ezcAlGkybvwg"
      },
      "execution_count": 128,
      "outputs": []
    },
    {
      "cell_type": "code",
      "source": [
        "embeddings = get_all_embeddings(chunks)"
      ],
      "metadata": {
        "id": "9jGpHJPDkEOz"
      },
      "execution_count": null,
      "outputs": []
    },
    {
      "cell_type": "code",
      "source": [
        "# Charger les embeddings du document dans une vector database FAISS\n",
        "def create_index_from_embeddings(embeddings):\n",
        "    dim = embeddings.shape[1]\n",
        "    index = faiss.IndexFlatL2(dim)\n",
        "    index.add(embeddings)\n",
        "\n",
        "    return index"
      ],
      "metadata": {
        "id": "SqWmLGqnsrNc"
      },
      "execution_count": 189,
      "outputs": []
    },
    {
      "cell_type": "code",
      "source": [
        "index = create_index_from_embeddings(embeddings)"
      ],
      "metadata": {
        "id": "30n78aS6tgBb"
      },
      "execution_count": 190,
      "outputs": []
    },
    {
      "cell_type": "markdown",
      "source": [
        "Le LLM avec RAG est prêt pour être utilisé avec une question utilisateur !"
      ],
      "metadata": {
        "id": "P5zNjYnntuEx"
      }
    },
    {
      "cell_type": "markdown",
      "source": [
        "### Générer une réponse augmentée du document"
      ],
      "metadata": {
        "id": "iuDKzWm8ty9e"
      }
    },
    {
      "cell_type": "code",
      "source": [
        "# L'utilisateur pose sa question\n",
        "def get_user_prompt():\n",
        "    question = input(\"Une question basée sur le document chargé : \")\n",
        "    return question"
      ],
      "metadata": {
        "id": "iiqqES46tjQP"
      },
      "execution_count": 195,
      "outputs": []
    },
    {
      "cell_type": "code",
      "source": [
        "question = get_user_prompt()"
      ],
      "metadata": {
        "colab": {
          "base_uri": "https://localhost:8080/"
        },
        "id": "BstwZ4XTuMIR",
        "outputId": "89f32a6e-f7cf-4d7c-9dd1-b5cee5660754"
      },
      "execution_count": 196,
      "outputs": [
        {
          "name": "stdout",
          "output_type": "stream",
          "text": [
            "Une question basée sur le document chargé : Quels sont les critères majeurs de diagnostic de pneumopathie aigue grave ?\n"
          ]
        }
      ]
    },
    {
      "cell_type": "code",
      "source": [
        "# Création de l'embedding associé à la question\n",
        "question_embedding = np.array([get_one_embedding(question)])"
      ],
      "metadata": {
        "id": "t-ZQc3D_uOlv"
      },
      "execution_count": 197,
      "outputs": []
    },
    {
      "cell_type": "code",
      "source": [
        "# Retrouver les chunks les plus similaires dans l'index\n",
        "def retrieve_chunk(index, question_embedding, top_k = 5):\n",
        "    D, I = index.search(question_embedding, k=top_k)\n",
        "    ind_chunks = I.tolist()[0]\n",
        "    retrieved_chunks = [chunks[i] for i in range(len(chunks)) if i in ind_chunks]\n",
        "    return \" \".join(retrieved_chunks)"
      ],
      "metadata": {
        "id": "uu_XomRHumDE"
      },
      "execution_count": 198,
      "outputs": []
    },
    {
      "cell_type": "code",
      "source": [
        "retrieved_chunk = retrieve_chunk(index, question_embedding)"
      ],
      "metadata": {
        "id": "VT7FuLv4u4vz"
      },
      "execution_count": 199,
      "outputs": []
    },
    {
      "cell_type": "code",
      "source": [
        "# Combiner la question et la réponse dans un même prompt\n",
        "def create_prompt(user_prompt, retrieved_chunk):\n",
        "    prompt = f\"\"\"\n",
        "    Contexte : {retrieved_chunk}\n",
        "    -----------------------------------------\n",
        "    Étant donné le context fourni ci-dessus, et sans utiliser de connaissance préalable, répond à la question suivante\n",
        "    -----------------------------------------\n",
        "    Question : {user_prompt}\n",
        "    -----------------------------------------\n",
        "    Format attendu : réponse complète, suivi des éléments du contexte qui t'ont permis de répondre\n",
        "    -----------------------------------------\n",
        "    Réponse :\n",
        "    \"\"\"\n",
        "\n",
        "    return prompt"
      ],
      "metadata": {
        "id": "Fc2jE2PvwHMm"
      },
      "execution_count": 204,
      "outputs": []
    },
    {
      "cell_type": "code",
      "source": [
        "prompt = create_prompt(question, retrieved_chunk)"
      ],
      "metadata": {
        "id": "jfm_znOGxJJl"
      },
      "execution_count": 167,
      "outputs": []
    },
    {
      "cell_type": "code",
      "source": [
        "# Génération de la réponse par envoi du prompt au modèle decoder-only Mistral\n",
        "def query_mistral(prompt, model=\"open-mistral-7b\"):\n",
        "    messages = [{\n",
        "        \"role\": \"user\",\n",
        "        \"content\": prompt\n",
        "    }]\n",
        "\n",
        "    chat_response = client.chat.complete(\n",
        "        model=model,\n",
        "        messages=messages\n",
        "    )\n",
        "\n",
        "    return chat_response.choices[0].message.content"
      ],
      "metadata": {
        "id": "jD9wqg1BxN29"
      },
      "execution_count": 182,
      "outputs": []
    },
    {
      "cell_type": "code",
      "source": [
        "response = query_mistral(prompt)"
      ],
      "metadata": {
        "id": "rTxNrppxxj8M"
      },
      "execution_count": 185,
      "outputs": []
    },
    {
      "cell_type": "code",
      "source": [
        "print(response)"
      ],
      "metadata": {
        "colab": {
          "base_uri": "https://localhost:8080/"
        },
        "id": "S7Pazu7ix3bb",
        "outputId": "f4004c32-deef-4b5d-ada8-6f25f5ab099d"
      },
      "execution_count": 186,
      "outputs": [
        {
          "output_type": "stream",
          "name": "stdout",
          "text": [
            "Les critères majeurs de diagnostic de pneumopathie aigue grave sont :\n",
            "\n",
            "* Détresse respiratoire nécessitant recours à la ventilation mécanique\n",
            "\n",
            "Ces critères ont été définis dans le contexte fourni précédemment.\n"
          ]
        }
      ]
    },
    {
      "cell_type": "markdown",
      "source": [
        "## Full pipeline"
      ],
      "metadata": {
        "id": "6dXW8pgyygKk"
      }
    },
    {
      "cell_type": "markdown",
      "source": [
        "Fonction bout-en-bout pour un utilisateur qui a déjà chargé et fait analysé son document :    \n",
        "- Input de la question de l'utilisateur\n",
        "- Génération de l'embedding et recherche des chunks les plus simmilaires dans l'index\n",
        "- Query au chat Mistral et affichage de la réponse"
      ],
      "metadata": {
        "id": "Cy-4fQ0tyl0L"
      }
    },
    {
      "cell_type": "code",
      "source": [
        "def ask_mistral_augmented(index, model=\"open-mistral-7b\"):\n",
        "    question = get_user_prompt()\n",
        "    question_embedding = np.array([get_one_embedding(question)])\n",
        "    retrieved_chunk = retrieve_chunk(index, question_embedding)\n",
        "    prompt = create_prompt(question, retrieved_chunk)\n",
        "    response = query_mistral(prompt)\n",
        "    return response"
      ],
      "metadata": {
        "id": "AE5b3thnyI1T"
      },
      "execution_count": 205,
      "outputs": []
    },
    {
      "cell_type": "code",
      "source": [
        "response = ask_mistral_augmented(index)"
      ],
      "metadata": {
        "colab": {
          "base_uri": "https://localhost:8080/",
          "height": 71
        },
        "id": "IFONe7zV6UMA",
        "outputId": "79d03b46-62ef-49d5-d7f6-c8ba224bf639"
      },
      "execution_count": 210,
      "outputs": [
        {
          "name": "stdout",
          "output_type": "stream",
          "text": [
            "Une question basée sur le document chargé : Quelle est la posologie à respecter pour l'amoxiciline en IV ? \n"
          ]
        },
        {
          "output_type": "display_data",
          "data": {
            "text/plain": [
              "'La posologie à respecter pour l\\'amoxicilline en IV est de 1 g par dose 3 fois par jour, ou 2 g par dose 3 fois par jour dans le cas de comorbidité. (Ce qui est mentionné dans le contexte en tant que : \"Amoxicilline (IV ou PO): 1 g x3/j: 2 g x3/j\").'"
            ],
            "application/vnd.google.colaboratory.intrinsic+json": {
              "type": "string"
            }
          },
          "metadata": {}
        }
      ]
    },
    {
      "cell_type": "code",
      "source": [],
      "metadata": {
        "id": "2UaWsWfb6Wda"
      },
      "execution_count": null,
      "outputs": []
    }
  ]
}