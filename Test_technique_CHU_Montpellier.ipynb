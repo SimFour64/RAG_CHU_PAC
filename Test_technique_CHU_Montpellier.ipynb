{
  "cells": [
    {
      "cell_type": "markdown",
      "metadata": {
        "id": "BKAbfnY_IwDS"
      },
      "source": [
        "# Prise en charge des pneumopathies aigues communautaires"
      ]
    },
    {
      "cell_type": "markdown",
      "metadata": {
        "id": "Tj3NPZGLIzkp"
      },
      "source": [
        "Ce notebook vise à établir un POC d'un outil qui pourrait être mis à disposition de professionnels de santé.  \n",
        "**Fonctionnalité principale** : interface conversationnelle de questions-réponses basé sur un LLM qui peut répondre à des questions portant sur un document   \n",
        "**Utilisateurs principaux** : professionnels de santé  \n",
        "**Workflow** : l'utilisateur charge le document, l'outil analyse le document, l'utilisateur pose des questions sur le document, l'outil répond en fonction des données du document  \n",
        "**Choix techniques** : l'outil proposé consiste en un LLM déjà entraîné, augmenté par le document fournit via un process RAG - Retrieval Augmented Generation."
      ]
    },
    {
      "cell_type": "markdown",
      "metadata": {
        "id": "QzYudHS5J2L2"
      },
      "source": [
        "## Environment setup"
      ]
    },
    {
      "cell_type": "code",
      "execution_count": null,
      "metadata": {
        "colab": {
          "base_uri": "https://localhost:8080/"
        },
        "collapsed": true,
        "id": "Kn98KlCKKYeK",
        "outputId": "e3111c7f-bb96-40cc-cc5d-03bd4d083e6d"
      },
      "outputs": [],
      "source": [
        "# Prerequisites\n",
        "!pip install python-docx mistralai faiss-cpu"
      ]
    },
    {
      "cell_type": "code",
      "execution_count": 2,
      "metadata": {
        "id": "705UQ1p8J17K"
      },
      "outputs": [],
      "source": [
        "# Imports\n",
        "import docx\n",
        "import textwrap\n",
        "from mistralai import Mistral\n",
        "import os\n",
        "import numpy as np\n",
        "import time\n",
        "import faiss"
      ]
    },
    {
      "cell_type": "code",
      "execution_count": 3,
      "metadata": {
        "id": "xnkWO7RubWwb"
      },
      "outputs": [],
      "source": [
        "# Mistral API Client\n",
        "api_key= os.getenv(\"MISTRAL_API_KEY\")\n",
        "client = Mistral(api_key=api_key)"
      ]
    },
    {
      "cell_type": "markdown",
      "metadata": {
        "id": "8oTl_dIwJw4i"
      },
      "source": [
        "## Développement de l'outil et du modèle"
      ]
    },
    {
      "cell_type": "markdown",
      "metadata": {
        "id": "a4jP4WgQK5rG"
      },
      "source": [
        "### Traitement du document, extraction des informations"
      ]
    },
    {
      "cell_type": "markdown",
      "metadata": {
        "id": "_xrZOs_NOJir"
      },
      "source": [
        "Le document consiste en des données textuelles à extraire : paragraphes, tableaux, images.  \n",
        "NB : le cas de l'image ne sera pas traité dans un premier temps, on pourrait utiliser une librairie d'OCR pour en extraire des informations brutes, ou un LLM pour structurer les informations extraites (ex. image-to-text)"
      ]
    },
    {
      "cell_type": "code",
      "execution_count": 5,
      "metadata": {
        "id": "Ied9cWt-JwOr"
      },
      "outputs": [],
      "source": [
        "document = docx.Document(\"data/Prise en charge des Pneumopathies aigues communautaires V2.docx\")"
      ]
    },
    {
      "cell_type": "code",
      "execution_count": 6,
      "metadata": {
        "id": "LGiQBm7cNPPP"
      },
      "outputs": [],
      "source": [
        "def extract_data(document):\n",
        "\n",
        "    doc_chunks = []\n",
        "\n",
        "    # Extraction des textes dans l'ordre du document\n",
        "    for item in document.iter_inner_content():\n",
        "\n",
        "        # Paragraphes\n",
        "        if isinstance(item, docx.text.paragraph.Paragraph):\n",
        "            doc_chunks.append(item.text.strip())\n",
        "\n",
        "        # Tables\n",
        "        elif isinstance(item, docx.table.Table):\n",
        "            for row in item.rows:\n",
        "                row_data = \": \".join([cell.text for cell in row.cells])\n",
        "                doc_chunks.append(row_data)\n",
        "\n",
        "    # Nettoyage des éléments vides\n",
        "    doc_chunks = [chunk for chunk in doc_chunks if chunk != \"\"]\n",
        "\n",
        "    # Fusion des éléments\n",
        "    doc_text = \"\\n\".join(doc_chunks)\n",
        "\n",
        "    return doc_text"
      ]
    },
    {
      "cell_type": "code",
      "execution_count": 7,
      "metadata": {
        "id": "wHhLJoUDeJxh"
      },
      "outputs": [],
      "source": [
        "doc_text = extract_data(document)"
      ]
    },
    {
      "cell_type": "markdown",
      "metadata": {
        "id": "ta9LauNdUkqd"
      },
      "source": [
        "### Construction du RAG"
      ]
    },
    {
      "cell_type": "code",
      "execution_count": 8,
      "metadata": {
        "id": "keFiHjJcVIUp"
      },
      "outputs": [],
      "source": [
        "# Découpage du document en chunks\n",
        "def split_text(document, chunk_size=300):\n",
        "    paragraphs = document.split(\"\\n\")\n",
        "    chunks = []\n",
        "    for paragraph in paragraphs:\n",
        "        chunks.extend(textwrap.wrap(paragraph, chunk_size))\n",
        "    return chunks"
      ]
    },
    {
      "cell_type": "code",
      "execution_count": 9,
      "metadata": {
        "id": "He5YCOz3VKJs"
      },
      "outputs": [],
      "source": [
        "chunks = split_text(doc_text)"
      ]
    },
    {
      "cell_type": "code",
      "execution_count": 11,
      "metadata": {
        "id": "aF63MOn7V8_i"
      },
      "outputs": [],
      "source": [
        "# Génération d'un embedding pour un chunk\n",
        "def get_one_embedding(chunk):\n",
        "    embedding = client.embeddings.create(\n",
        "        model = \"mistral-embed\",\n",
        "        inputs = chunk\n",
        "    )\n",
        "\n",
        "    return embedding.data[0].embedding"
      ]
    },
    {
      "cell_type": "code",
      "execution_count": 12,
      "metadata": {
        "id": "ezcAlGkybvwg"
      },
      "outputs": [],
      "source": [
        "# Limite d'utilisation API Mistral atteinte (vesion gratuite) : découpage en plusieurs parties pour générer les embeddings du doc d'entrée\n",
        "# Warning - solution non scalable si documents plus longs : considérer un plan payant pour accès API ou gérer l'embedding en local\n",
        "\n",
        "def get_all_embeddings(chunks, split_size=20):\n",
        "    embeddings = []\n",
        "    split_size = 30\n",
        "    number_of_splits = len(chunks) // split_size + 1\n",
        "\n",
        "    for i in range(number_of_splits):\n",
        "        print(\"Chunk n°\",i,\"/\",number_of_splits-1)\n",
        "        split_of_chunks = chunks[split_size*i:min(split_size*(i+1),len(chunks))]\n",
        "        embeddings_of_split = [get_one_embedding(chunk) for chunk in split_of_chunks]\n",
        "        embeddings.extend(embeddings_of_split)\n",
        "\n",
        "        time.sleep(60) # Attente pour limite API\n",
        "\n",
        "    embeddings = np.array(embeddings)\n",
        "\n",
        "    return embeddings"
      ]
    },
    {
      "cell_type": "code",
      "execution_count": 13,
      "metadata": {
        "id": "9jGpHJPDkEOz"
      },
      "outputs": [
        {
          "name": "stdout",
          "output_type": "stream",
          "text": [
            "Chunk n° 0 / 5\n",
            "Chunk n° 1 / 5\n",
            "Chunk n° 2 / 5\n",
            "Chunk n° 3 / 5\n",
            "Chunk n° 4 / 5\n",
            "Chunk n° 5 / 5\n"
          ]
        }
      ],
      "source": [
        "embeddings = get_all_embeddings(chunks)"
      ]
    },
    {
      "cell_type": "code",
      "execution_count": 14,
      "metadata": {
        "id": "SqWmLGqnsrNc"
      },
      "outputs": [],
      "source": [
        "# Charger les embeddings du document dans une vector database FAISS\n",
        "def create_index_from_embeddings(embeddings):\n",
        "    dim = embeddings.shape[1]\n",
        "    index = faiss.IndexFlatL2(dim)\n",
        "    index.add(embeddings)\n",
        "\n",
        "    return index"
      ]
    },
    {
      "cell_type": "code",
      "execution_count": 15,
      "metadata": {
        "id": "30n78aS6tgBb"
      },
      "outputs": [],
      "source": [
        "index = create_index_from_embeddings(embeddings)"
      ]
    },
    {
      "cell_type": "markdown",
      "metadata": {
        "id": "P5zNjYnntuEx"
      },
      "source": [
        "Le LLM avec RAG est prêt pour être utilisé avec une question utilisateur !"
      ]
    },
    {
      "cell_type": "markdown",
      "metadata": {
        "id": "iuDKzWm8ty9e"
      },
      "source": [
        "### Générer une réponse augmentée du document"
      ]
    },
    {
      "cell_type": "code",
      "execution_count": 16,
      "metadata": {
        "id": "iiqqES46tjQP"
      },
      "outputs": [],
      "source": [
        "# L'utilisateur pose sa question\n",
        "def get_user_prompt():\n",
        "    question = input(\"Une question basée sur le document chargé : \")\n",
        "    return question"
      ]
    },
    {
      "cell_type": "code",
      "execution_count": 17,
      "metadata": {
        "colab": {
          "base_uri": "https://localhost:8080/"
        },
        "id": "BstwZ4XTuMIR",
        "outputId": "89f32a6e-f7cf-4d7c-9dd1-b5cee5660754"
      },
      "outputs": [],
      "source": [
        "question = get_user_prompt()"
      ]
    },
    {
      "cell_type": "code",
      "execution_count": 18,
      "metadata": {},
      "outputs": [
        {
          "data": {
            "text/plain": [
              "'Quels sont les critères majeurs de diagnostic de pneumopathie aigue grave ?'"
            ]
          },
          "execution_count": 18,
          "metadata": {},
          "output_type": "execute_result"
        }
      ],
      "source": [
        "question"
      ]
    },
    {
      "cell_type": "code",
      "execution_count": 19,
      "metadata": {
        "id": "t-ZQc3D_uOlv"
      },
      "outputs": [],
      "source": [
        "# Création de l'embedding associé à la question\n",
        "question_embedding = np.array([get_one_embedding(question)])"
      ]
    },
    {
      "cell_type": "code",
      "execution_count": 20,
      "metadata": {
        "id": "uu_XomRHumDE"
      },
      "outputs": [],
      "source": [
        "# Retrouver les chunks les plus similaires dans l'index\n",
        "def retrieve_chunk(index, question_embedding, top_k = 5):\n",
        "    D, I = index.search(question_embedding, k=top_k)\n",
        "    ind_chunks = I.tolist()[0]\n",
        "    retrieved_chunks = [chunks[i] for i in range(len(chunks)) if i in ind_chunks]\n",
        "    return \" \".join(retrieved_chunks)"
      ]
    },
    {
      "cell_type": "code",
      "execution_count": 21,
      "metadata": {
        "id": "VT7FuLv4u4vz"
      },
      "outputs": [],
      "source": [
        "retrieved_chunk = retrieve_chunk(index, question_embedding)"
      ]
    },
    {
      "cell_type": "code",
      "execution_count": 49,
      "metadata": {
        "id": "Fc2jE2PvwHMm"
      },
      "outputs": [],
      "source": [
        "# Combiner la question et la réponse dans un même prompt\n",
        "def create_prompt(user_prompt, retrieved_chunk):\n",
        "    prompt = f\"\"\"\n",
        "    Contexte : {retrieved_chunk}\n",
        "    -----------------------------------------\n",
        "    Étant donné le context fourni ci-dessus, et sans utiliser de connaissance préalable, répond à la question suivante\n",
        "    -----------------------------------------\n",
        "    Question : {user_prompt}\n",
        "    -----------------------------------------\n",
        "    Format attendu : réponse complète\n",
        "    -----------------------------------------\n",
        "    Réponse :\n",
        "    \"\"\"\n",
        "\n",
        "    return prompt"
      ]
    },
    {
      "cell_type": "code",
      "execution_count": 23,
      "metadata": {
        "id": "jfm_znOGxJJl"
      },
      "outputs": [],
      "source": [
        "prompt = create_prompt(question, retrieved_chunk)"
      ]
    },
    {
      "cell_type": "code",
      "execution_count": 50,
      "metadata": {
        "id": "jD9wqg1BxN29"
      },
      "outputs": [],
      "source": [
        "# Génération de la réponse par envoi du prompt au modèle decoder-only Mistral\n",
        "def query_mistral(prompt, model=\"open-mistral-7b\"):\n",
        "    messages = [{\n",
        "        \"role\": \"user\",\n",
        "        \"content\": prompt\n",
        "    }]\n",
        "\n",
        "    chat_response = client.chat.complete(\n",
        "        model=model,\n",
        "        messages=messages\n",
        "    )\n",
        "\n",
        "    return chat_response.choices[0].message.content"
      ]
    },
    {
      "cell_type": "code",
      "execution_count": 25,
      "metadata": {
        "id": "rTxNrppxxj8M"
      },
      "outputs": [],
      "source": [
        "response = query_mistral(prompt)"
      ]
    },
    {
      "cell_type": "code",
      "execution_count": 26,
      "metadata": {
        "colab": {
          "base_uri": "https://localhost:8080/"
        },
        "id": "S7Pazu7ix3bb",
        "outputId": "f4004c32-deef-4b5d-ada8-6f25f5ab099d"
      },
      "outputs": [
        {
          "name": "stdout",
          "output_type": "stream",
          "text": [
            "Les critères majeurs de diagnostic de pneumopathie aigue grave sont : Détresse respiratoire nécessitant recours à la ventilation mécanique.\n",
            "\n",
            "Ceci est tiré du contexte fourni où il est précisé qu'un des critères majeurs de diagnostic de pneumopathie aigue grave est la nécessité de recours à la ventilation mécanique.\n"
          ]
        }
      ],
      "source": [
        "print(response)"
      ]
    },
    {
      "cell_type": "markdown",
      "metadata": {
        "id": "6dXW8pgyygKk"
      },
      "source": [
        "## Full pipeline"
      ]
    },
    {
      "cell_type": "markdown",
      "metadata": {
        "id": "Cy-4fQ0tyl0L"
      },
      "source": [
        "Fonction bout-en-bout pour un utilisateur qui a déjà chargé et fait analysé son document :    \n",
        "- Input de la question de l'utilisateur\n",
        "- Génération de l'embedding et recherche des chunks les plus simmilaires dans l'index\n",
        "- Query au chat Mistral et affichage de la réponse"
      ]
    },
    {
      "cell_type": "code",
      "execution_count": 34,
      "metadata": {
        "id": "AE5b3thnyI1T"
      },
      "outputs": [],
      "source": [
        "def ask_mistral_augmented(index, model=\"open-mistral-7b\"):\n",
        "    question = get_user_prompt()\n",
        "    question_embedding = np.array([get_one_embedding(question)])\n",
        "    retrieved_chunk = retrieve_chunk(index, question_embedding)\n",
        "    prompt = create_prompt(question, retrieved_chunk)\n",
        "    return question, query_mistral(prompt)"
      ]
    },
    {
      "cell_type": "markdown",
      "metadata": {},
      "source": [
        "### Quelques exemples"
      ]
    },
    {
      "cell_type": "code",
      "execution_count": 53,
      "metadata": {
        "colab": {
          "base_uri": "https://localhost:8080/",
          "height": 71
        },
        "id": "IFONe7zV6UMA",
        "outputId": "79d03b46-62ef-49d5-d7f6-c8ba224bf639"
      },
      "outputs": [
        {
          "name": "stdout",
          "output_type": "stream",
          "text": [
            "Question : Quelles sont les recommandations d'antibiotiques pour un adulte atteint d'une PAC non grave sans commorbidités ?\n",
            "Réponse : Les recommandations d'antibiotiques pour un adulte atteint d'une Pneumonie non grave sans comorbidités sont l'Amoxicilline à une dose de 1-2g par 8 heures par voie orale ou intraveineuse, comme indiqué dans les recommandations thérapeutiques de la Commission des Médicaments Anti-Infectieux (COMAI) réalisées et validées le 20/06/2025.\n"
          ]
        }
      ],
      "source": [
        "question, response = ask_mistral_augmented(index)\n",
        "print(\"Question :\",question)\n",
        "print(\"Réponse :\",response)"
      ]
    },
    {
      "cell_type": "code",
      "execution_count": 52,
      "metadata": {},
      "outputs": [
        {
          "name": "stdout",
          "output_type": "stream",
          "text": [
            "Question : Quels examens ne sont pas recommandés pour une PAC et pourquoi ?\n",
            "Réponse : Les examens de dosage de la CRP (C-réactive protéine) et PCT (Procalcitonine) ne sont pas systématiquement recommandés pour un diagnostic et/ou suivi de pneumonie aiguë (PAC). Cela est dû au fait qu'ils ne sont pas spécifiques pour la détection de la bactérie comme cause de la PAC et peuvent être altérés par d'autres processus inflammatoires ou infections non respiratoires. Dans le contexte de PAC graves, un diagnostic différentiel doit être effectué et les examens doivent être choisis en fonction de la suspicion clinique, du contexte de l'hospitalisation et de la gravité de la maladie.\n"
          ]
        }
      ],
      "source": [
        "question, response = ask_mistral_augmented(index)\n",
        "print(\"Question :\",question)\n",
        "print(\"Réponse :\",response)"
      ]
    },
    {
      "cell_type": "code",
      "execution_count": 54,
      "metadata": {},
      "outputs": [
        {
          "name": "stdout",
          "output_type": "stream",
          "text": [
            "Question : Dans quels cas puis-je prescrire de l'amoxicilline-acide clavulanique ?\n",
            "Réponse : L'amoxicilline-acide clavulanique peut être prescrite en cas de comorbidité, car elle possède une activité antibiotique plus large que l'amoxicilline seule, en particulier contre les bactéries productrices d'enzymes β-lactamases résistantes aux β-lactamines. Par ailleurs, elle est également utilisée dans le traitement de la pneumopathie d'inhalation, pour sa bonne pénétration pulmonaire.\n"
          ]
        }
      ],
      "source": [
        "question, response = ask_mistral_augmented(index)\n",
        "print(\"Question :\",question)\n",
        "print(\"Réponse :\",response)"
      ]
    }
  ],
  "metadata": {
    "colab": {
      "provenance": []
    },
    "kernelspec": {
      "display_name": "3.10.6",
      "language": "python",
      "name": "python3"
    },
    "language_info": {
      "codemirror_mode": {
        "name": "ipython",
        "version": 3
      },
      "file_extension": ".py",
      "mimetype": "text/x-python",
      "name": "python",
      "nbconvert_exporter": "python",
      "pygments_lexer": "ipython3",
      "version": "3.10.6"
    }
  },
  "nbformat": 4,
  "nbformat_minor": 0
}
